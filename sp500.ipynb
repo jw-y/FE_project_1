{
 "cells": [
  {
   "cell_type": "code",
   "execution_count": 1,
   "id": "incoming-order",
   "metadata": {},
   "outputs": [],
   "source": [
    "import pandas_datareader as pdr\n",
    "import pandas as pd\n",
    "import datetime\n",
    "import matplotlib.pyplot as plt\n",
    "from tqdm import tqdm\n",
    "import numpy as np\n",
    "import math"
   ]
  },
  {
   "cell_type": "code",
   "execution_count": 87,
   "id": "approximate-swiss",
   "metadata": {},
   "outputs": [],
   "source": [
    "start = datetime.datetime(2017, 1, 1)\n",
    "end = datetime.datetime(2021, 3, 31)"
   ]
  },
  {
   "cell_type": "code",
   "execution_count": 2,
   "id": "metropolitan-prince",
   "metadata": {},
   "outputs": [],
   "source": [
    "close_df = pd.read_csv('./data/sp500_close.csv', index_col='Date')"
   ]
  },
  {
   "cell_type": "code",
   "execution_count": 3,
   "id": "brief-association",
   "metadata": {},
   "outputs": [],
   "source": [
    "df = close_df[\"2020-01-01\":]"
   ]
  },
  {
   "cell_type": "code",
   "execution_count": 4,
   "id": "ongoing-journalist",
   "metadata": {},
   "outputs": [],
   "source": [
    "df.index = pd.to_datetime(df.index)\n",
    "df = df.resample('M').last()"
   ]
  },
  {
   "cell_type": "code",
   "execution_count": 5,
   "id": "african-possible",
   "metadata": {},
   "outputs": [],
   "source": [
    "log_df = np.log(df)-np.log(df.shift())"
   ]
  },
  {
   "cell_type": "code",
   "execution_count": 6,
   "id": "republican-instrument",
   "metadata": {},
   "outputs": [],
   "source": [
    "log_df = log_df[log_df.columns[~log_df.loc[\"2021-01-01\":].isnull().any()]]"
   ]
  },
  {
   "cell_type": "code",
   "execution_count": null,
   "id": "worth-exhibit",
   "metadata": {},
   "outputs": [],
   "source": [
    "log_df"
   ]
  },
  {
   "cell_type": "code",
   "execution_count": 7,
   "id": "opening-rhythm",
   "metadata": {},
   "outputs": [],
   "source": [
    "cov = log_df.cov().to_numpy()\n",
    "mu = log_df.mean().to_numpy()"
   ]
  },
  {
   "cell_type": "code",
   "execution_count": 8,
   "id": "weird-myrtle",
   "metadata": {},
   "outputs": [],
   "source": [
    "cov_inv = np.linalg.inv(cov)"
   ]
  },
  {
   "cell_type": "code",
   "execution_count": 9,
   "id": "unable-oasis",
   "metadata": {},
   "outputs": [],
   "source": [
    "alpha = mu.dot(cov_inv).dot(mu)\n",
    "beta = np.sum(cov_inv.dot(mu))\n",
    "gamma = np.sum(cov_inv)\n",
    "D = alpha*gamma - beta**2"
   ]
  },
  {
   "cell_type": "code",
   "execution_count": 10,
   "id": "objective-acrylic",
   "metadata": {},
   "outputs": [],
   "source": [
    "def std(v):\n",
    "    return math.sqrt((gamma*v**2 - 2*beta*v + alpha) / D)"
   ]
  },
  {
   "cell_type": "code",
   "execution_count": 11,
   "id": "olive-finish",
   "metadata": {},
   "outputs": [],
   "source": [
    "_x = math.sqrt(1/gamma)\n",
    "_y = beta/gamma"
   ]
  },
  {
   "cell_type": "code",
   "execution_count": 52,
   "id": "coated-riverside",
   "metadata": {},
   "outputs": [],
   "source": [
    "y_l = np.linspace(_y, 2, 100).tolist()\n",
    "#y_l = np.linspace(-0.2, 0.2, 100).tolist()\n",
    "x_l = [std(x) for x in y_l]"
   ]
  },
  {
   "cell_type": "code",
   "execution_count": 30,
   "id": "starting-small",
   "metadata": {},
   "outputs": [
    {
     "data": {
      "text/plain": [
       "[<matplotlib.lines.Line2D at 0x22afab27850>]"
      ]
     },
     "execution_count": 30,
     "metadata": {},
     "output_type": "execute_result"
    },
    {
     "data": {
      "image/png": "[encoded data removed]",
      "text/plain": [
       "<Figure size 432x288 with 1 Axes>"
      ]
     },
     "metadata": {
      "needs_background": "light"
     },
     "output_type": "display_data"
    }
   ],
   "source": [
    "plt.plot(x_l, y_l)"
   ]
  },
  {
   "cell_type": "code",
   "execution_count": 16,
   "id": "laughing-jimmy",
   "metadata": {},
   "outputs": [
    {
     "data": {
      "text/plain": [
       "2.4339177219982744e-10"
      ]
     },
     "execution_count": 16,
     "metadata": {},
     "output_type": "execute_result"
    }
   ],
   "source": [
    "_x"
   ]
  },
  {
   "cell_type": "code",
   "execution_count": 17,
   "id": "filled-explosion",
   "metadata": {},
   "outputs": [
    {
     "data": {
      "text/plain": [
       "0.05582678463167039"
      ]
     },
     "execution_count": 17,
     "metadata": {},
     "output_type": "execute_result"
    }
   ],
   "source": [
    "_y"
   ]
  },
  {
   "cell_type": "code",
   "execution_count": 37,
   "id": "polar-consensus",
   "metadata": {},
   "outputs": [],
   "source": [
    "df = pd.read_csv(\"./data/TBILL.csv\", index_col='DATE')"
   ]
  },
  {
   "cell_type": "code",
   "execution_count": 38,
   "id": "searching-producer",
   "metadata": {},
   "outputs": [],
   "source": [
    "#df = df['2020-01-01':]"
   ]
  },
  {
   "cell_type": "code",
   "execution_count": 39,
   "id": "victorian-aggregate",
   "metadata": {},
   "outputs": [],
   "source": [
    "rf_ret = np.log(df*0.01+1).mean().values[0]"
   ]
  },
  {
   "cell_type": "code",
   "execution_count": 40,
   "id": "outer-paste",
   "metadata": {},
   "outputs": [
    {
     "data": {
      "text/plain": [
       "0.012379591733893199"
      ]
     },
     "execution_count": 40,
     "metadata": {},
     "output_type": "execute_result"
    }
   ],
   "source": [
    "rf_ret"
   ]
  },
  {
   "cell_type": "code",
   "execution_count": 41,
   "id": "respective-frequency",
   "metadata": {},
   "outputs": [],
   "source": [
    "E = alpha - 2*beta *rf_ret + gamma*rf_ret**2"
   ]
  },
  {
   "cell_type": "code",
   "execution_count": 42,
   "id": "leading-purchase",
   "metadata": {},
   "outputs": [],
   "source": [
    "def CML(risk):\n",
    "    return rf_ret + math.sqrt(E)*risk"
   ]
  },
  {
   "cell_type": "code",
   "execution_count": 299,
   "id": "interstate-fifteen",
   "metadata": {},
   "outputs": [],
   "source": [
    "line_x = np.linspace(0, 1, 1000).tolist()\n",
    "line_y = [CML(x) for x in line_x]"
   ]
  },
  {
   "cell_type": "code",
   "execution_count": 73,
   "id": "going-travel",
   "metadata": {},
   "outputs": [
    {
     "data": {
      "text/plain": [
       "[<matplotlib.lines.Line2D at 0x22aff6157c0>]"
      ]
     },
     "execution_count": 73,
     "metadata": {},
     "output_type": "execute_result"
    },
    {
     "data": {
      "image/png": "[encoded data removed]",
      "text/plain": [
       "<Figure size 432x288 with 1 Axes>"
      ]
     },
     "metadata": {
      "needs_background": "light"
     },
     "output_type": "display_data"
    }
   ],
   "source": [
    "plt.plot(line_x, line_y)"
   ]
  },
  {
   "cell_type": "code",
   "execution_count": 129,
   "id": "tight-homework",
   "metadata": {},
   "outputs": [],
   "source": [
    "sig_M = math.sqrt(E)/ (beta - rf_ret*gamma)\n",
    "mu_M = rf_ret + E / (beta - rf_ret*gamma)"
   ]
  },
  {
   "cell_type": "code",
   "execution_count": 259,
   "id": "graduate-weapon",
   "metadata": {},
   "outputs": [
    {
     "data": {
      "text/plain": [
       "(0.0, 0.2)"
      ]
     },
     "execution_count": 259,
     "metadata": {},
     "output_type": "execute_result"
    },
    {
     "data": {
      "image/png": "[encoded data removed]",
      "text/plain": [
       "<Figure size 432x288 with 1 Axes>"
      ]
     },
     "metadata": {
      "needs_background": "light"
     },
     "output_type": "display_data"
    }
   ],
   "source": [
    "plt.plot(x_l, y_l)\n",
    "plt.plot(line_x, line_y)\n",
    "plt.scatter(sig_M, mu_M)\n",
    "plt.xlim((0.0000000002, 0.0000000005))\n",
    "plt.ylim((0.0, 0.2))\n",
    "\n",
    "#plt.show()\n",
    "#plt.xlim(())"
   ]
  },
  {
   "cell_type": "code",
   "execution_count": 133,
   "id": "every-diesel",
   "metadata": {},
   "outputs": [
    {
     "data": {
      "text/plain": [
       "0.012379591733893199"
      ]
     },
     "execution_count": 133,
     "metadata": {},
     "output_type": "execute_result"
    }
   ],
   "source": [
    "rf_ret"
   ]
  },
  {
   "cell_type": "code",
   "execution_count": 131,
   "id": "joint-reporter",
   "metadata": {},
   "outputs": [],
   "source": [
    "slope = (mu_M - rf_ret)/ sig_M"
   ]
  },
  {
   "cell_type": "code",
   "execution_count": 132,
   "id": "english-florist",
   "metadata": {},
   "outputs": [
    {
     "data": {
      "text/plain": [
       "243291934.9625565"
      ]
     },
     "execution_count": 132,
     "metadata": {},
     "output_type": "execute_result"
    }
   ],
   "source": [
    "slope"
   ]
  },
  {
   "cell_type": "code",
   "execution_count": 266,
   "id": "green-harrison",
   "metadata": {},
   "outputs": [],
   "source": [
    "A=100000000000\n",
    "_x = slope/A\n",
    "_y = slope*_x + rf_ret\n",
    "util = _y - (A/2)*_x**2"
   ]
  },
  {
   "cell_type": "code",
   "execution_count": 269,
   "id": "embedded-attribute",
   "metadata": {},
   "outputs": [
    {
     "data": {
      "text/plain": [
       "295954.8404687158"
      ]
     },
     "execution_count": 269,
     "metadata": {},
     "output_type": "execute_result"
    }
   ],
   "source": [
    "util"
   ]
  },
  {
   "cell_type": "code",
   "execution_count": 267,
   "id": "periodic-proxy",
   "metadata": {},
   "outputs": [
    {
     "data": {
      "text/plain": [
       "0.002432919349625565"
      ]
     },
     "execution_count": 267,
     "metadata": {},
     "output_type": "execute_result"
    }
   ],
   "source": [
    "_x"
   ]
  },
  {
   "cell_type": "code",
   "execution_count": 268,
   "id": "conservative-structure",
   "metadata": {},
   "outputs": [
    {
     "data": {
      "text/plain": [
       "887864.496646964"
      ]
     },
     "execution_count": 268,
     "metadata": {},
     "output_type": "execute_result"
    }
   ],
   "source": [
    "A/2*_x**2 + _y"
   ]
  },
  {
   "cell_type": "code",
   "execution_count": 270,
   "id": "functional-blast",
   "metadata": {},
   "outputs": [],
   "source": [
    "_y = slope*_x + rf_ret"
   ]
  },
  {
   "cell_type": "code",
   "execution_count": 271,
   "id": "cultural-boost",
   "metadata": {},
   "outputs": [
    {
     "data": {
      "text/plain": [
       "591909.6685578399"
      ]
     },
     "execution_count": 271,
     "metadata": {},
     "output_type": "execute_result"
    }
   ],
   "source": [
    "_y"
   ]
  },
  {
   "cell_type": "code",
   "execution_count": 272,
   "id": "dental-wichita",
   "metadata": {},
   "outputs": [],
   "source": [
    "def indiff(util, std_p, A=1):\n",
    "    return util + (A/2) *(std_p**2)"
   ]
  },
  {
   "cell_type": "code",
   "execution_count": 300,
   "id": "everyday-pocket",
   "metadata": {},
   "outputs": [],
   "source": [
    "x_i = np.linspace(0, 1, 1000).tolist()\n",
    "y_i = [indiff(util, x, A) for x in x_i]"
   ]
  },
  {
   "cell_type": "code",
   "execution_count": 274,
   "id": "sweet-confirmation",
   "metadata": {},
   "outputs": [
    {
     "data": {
      "text/plain": [
       "295954.8404687158"
      ]
     },
     "execution_count": 274,
     "metadata": {},
     "output_type": "execute_result"
    }
   ],
   "source": [
    "util"
   ]
  },
  {
   "cell_type": "code",
   "execution_count": 275,
   "id": "talented-plymouth",
   "metadata": {},
   "outputs": [
    {
     "data": {
      "text/plain": [
       "[<matplotlib.lines.Line2D at 0x22a853900d0>]"
      ]
     },
     "execution_count": 275,
     "metadata": {},
     "output_type": "execute_result"
    },
    {
     "data": {
      "image/png": "[encoded data removed]",
      "text/plain": [
       "<Figure size 432x288 with 1 Axes>"
      ]
     },
     "metadata": {
      "needs_background": "light"
     },
     "output_type": "display_data"
    }
   ],
   "source": [
    "plt.plot(x_i, y_i)"
   ]
  },
  {
   "cell_type": "code",
   "execution_count": 306,
   "id": "fifty-currency",
   "metadata": {},
   "outputs": [
    {
     "data": {
      "text/plain": [
       "(0.0, 1000000.0)"
      ]
     },
     "execution_count": 306,
     "metadata": {},
     "output_type": "execute_result"
    },
    {
     "data": {
      "image/png": "[encoded data removed]",
      "text/plain": [
       "<Figure size 432x288 with 1 Axes>"
      ]
     },
     "metadata": {
      "needs_background": "light"
     },
     "output_type": "display_data"
    }
   ],
   "source": [
    "plt.plot(line_x, line_y)\n",
    "plt.plot(x_i, y_i)\n",
    "plt.xlim((0.001, 0.004))\n",
    "plt.ylim((0, 1000000))"
   ]
  },
  {
   "cell_type": "code",
   "execution_count": 298,
   "id": "arranged-fluid",
   "metadata": {},
   "outputs": [
    {
     "data": {
      "text/plain": [
       "0.012379591733893199"
      ]
     },
     "execution_count": 298,
     "metadata": {},
     "output_type": "execute_result"
    }
   ],
   "source": [
    "rf_ret"
   ]
  },
  {
   "cell_type": "code",
   "execution_count": 282,
   "id": "revolutionary-malta",
   "metadata": {},
   "outputs": [
    {
     "data": {
      "text/plain": [
       "(30000.0, 600000.0)"
      ]
     },
     "execution_count": 282,
     "metadata": {},
     "output_type": "execute_result"
    },
    {
     "data": {
      "image/png": "[encoded data removed]",
      "text/plain": [
       "<Figure size 432x288 with 1 Axes>"
      ]
     },
     "metadata": {
      "needs_background": "light"
     },
     "output_type": "display_data"
    }
   ],
   "source": [
    "plt.plot(line_x, line_y)\n",
    "plt.plot(x_i, y_i)\n",
    "plt.xlim(0.0, 0.003)\n",
    "plt.ylim(30000, 600000)"
   ]
  },
  {
   "cell_type": "code",
   "execution_count": 252,
   "id": "streaming-ownership",
   "metadata": {},
   "outputs": [
    {
     "data": {
      "text/plain": [
       "(0.0, 0.5)"
      ]
     },
     "execution_count": 252,
     "metadata": {},
     "output_type": "execute_result"
    },
    {
     "data": {
      "image/png": "[encoded data removed]",
      "text/plain": [
       "<Figure size 432x288 with 1 Axes>"
      ]
     },
     "metadata": {
      "needs_background": "light"
     },
     "output_type": "display_data"
    }
   ],
   "source": [
    "plt.plot(x_l, y_l)\n",
    "plt.plot(line_x, line_y)\n",
    "plt.scatter(sig_M, mu_M)\n",
    "plt.plot(x_i, y_i)\n",
    "#plt.xlim((0.0000000002, 0.0000000005))\n",
    "#plt.xlim((0.000000000, 0.00000001))\n",
    "#plt.ylim((0.0, 0.5))\n",
    "plt.xlim((0, 0.025))\n",
    "plt.ylim((, 0.5))"
   ]
  },
  {
   "cell_type": "code",
   "execution_count": null,
   "id": "internal-receptor",
   "metadata": {},
   "outputs": [],
   "source": []
  },
  {
   "cell_type": "code",
   "execution_count": 106,
   "id": "charged-cooperation",
   "metadata": {},
   "outputs": [],
   "source": [
    "import yfinance as yf"
   ]
  },
  {
   "cell_type": "code",
   "execution_count": 126,
   "id": "encouraging-category",
   "metadata": {},
   "outputs": [
    {
     "name": "stdout",
     "output_type": "stream",
     "text": [
      "[*********************100%***********************]  2 of 2 completed\n"
     ]
    }
   ],
   "source": [
    "data = yf.download(\"SPY AAPL\", start, end)"
   ]
  },
  {
   "cell_type": "code",
   "execution_count": 128,
   "id": "metropolitan-october",
   "metadata": {},
   "outputs": [
    {
     "data": {
      "text/html": [
       "<div>\n",
       "<style scoped>\n",
       "    .dataframe tbody tr th:only-of-type {\n",
       "        vertical-align: middle;\n",
       "    }\n",
       "\n",
       "    .dataframe tbody tr th {\n",
       "        vertical-align: top;\n",
       "    }\n",
       "\n",
       "    .dataframe thead tr th {\n",
       "        text-align: left;\n",
       "    }\n",
       "\n",
       "    .dataframe thead tr:last-of-type th {\n",
       "        text-align: right;\n",
       "    }\n",
       "</style>\n",
       "<table border=\"1\" class=\"dataframe\">\n",
       "  <thead>\n",
       "    <tr>\n",
       "      <th></th>\n",
       "      <th colspan=\"2\" halign=\"left\">Adj Close</th>\n",
       "      <th colspan=\"2\" halign=\"left\">Close</th>\n",
       "      <th colspan=\"2\" halign=\"left\">High</th>\n",
       "      <th colspan=\"2\" halign=\"left\">Low</th>\n",
       "      <th colspan=\"2\" halign=\"left\">Open</th>\n",
       "      <th colspan=\"2\" halign=\"left\">Volume</th>\n",
       "    </tr>\n",
       "    <tr>\n",
       "      <th></th>\n",
       "      <th>AAPL</th>\n",
       "      <th>SPY</th>\n",
       "      <th>AAPL</th>\n",
       "      <th>SPY</th>\n",
       "      <th>AAPL</th>\n",
       "      <th>SPY</th>\n",
       "      <th>AAPL</th>\n",
       "      <th>SPY</th>\n",
       "      <th>AAPL</th>\n",
       "      <th>SPY</th>\n",
       "      <th>AAPL</th>\n",
       "      <th>SPY</th>\n",
       "    </tr>\n",
       "    <tr>\n",
       "      <th>Date</th>\n",
       "      <th></th>\n",
       "      <th></th>\n",
       "      <th></th>\n",
       "      <th></th>\n",
       "      <th></th>\n",
       "      <th></th>\n",
       "      <th></th>\n",
       "      <th></th>\n",
       "      <th></th>\n",
       "      <th></th>\n",
       "      <th></th>\n",
       "      <th></th>\n",
       "    </tr>\n",
       "  </thead>\n",
       "  <tbody>\n",
       "    <tr>\n",
       "      <th>2017-01-03</th>\n",
       "      <td>27.459938</td>\n",
       "      <td>208.213501</td>\n",
       "      <td>29.037500</td>\n",
       "      <td>225.240005</td>\n",
       "      <td>29.082500</td>\n",
       "      <td>225.830002</td>\n",
       "      <td>28.690001</td>\n",
       "      <td>223.880005</td>\n",
       "      <td>28.950001</td>\n",
       "      <td>225.039993</td>\n",
       "      <td>115127600</td>\n",
       "      <td>91366500</td>\n",
       "    </tr>\n",
       "    <tr>\n",
       "      <th>2017-01-04</th>\n",
       "      <td>27.429203</td>\n",
       "      <td>209.452240</td>\n",
       "      <td>29.004999</td>\n",
       "      <td>226.580002</td>\n",
       "      <td>29.127501</td>\n",
       "      <td>226.750000</td>\n",
       "      <td>28.937500</td>\n",
       "      <td>225.610001</td>\n",
       "      <td>28.962500</td>\n",
       "      <td>225.619995</td>\n",
       "      <td>84472400</td>\n",
       "      <td>78744400</td>\n",
       "    </tr>\n",
       "    <tr>\n",
       "      <th>2017-01-05</th>\n",
       "      <td>27.568691</td>\n",
       "      <td>209.285812</td>\n",
       "      <td>29.152500</td>\n",
       "      <td>226.399994</td>\n",
       "      <td>29.215000</td>\n",
       "      <td>226.580002</td>\n",
       "      <td>28.952499</td>\n",
       "      <td>225.479996</td>\n",
       "      <td>28.980000</td>\n",
       "      <td>226.270004</td>\n",
       "      <td>88774400</td>\n",
       "      <td>78379000</td>\n",
       "    </tr>\n",
       "    <tr>\n",
       "      <th>2017-01-06</th>\n",
       "      <td>27.876030</td>\n",
       "      <td>210.034561</td>\n",
       "      <td>29.477501</td>\n",
       "      <td>227.210007</td>\n",
       "      <td>29.540001</td>\n",
       "      <td>227.750000</td>\n",
       "      <td>29.117500</td>\n",
       "      <td>225.899994</td>\n",
       "      <td>29.195000</td>\n",
       "      <td>226.529999</td>\n",
       "      <td>127007600</td>\n",
       "      <td>71559900</td>\n",
       "    </tr>\n",
       "    <tr>\n",
       "      <th>2017-01-09</th>\n",
       "      <td>28.131361</td>\n",
       "      <td>209.341278</td>\n",
       "      <td>29.747499</td>\n",
       "      <td>226.460007</td>\n",
       "      <td>29.857500</td>\n",
       "      <td>227.070007</td>\n",
       "      <td>29.485001</td>\n",
       "      <td>226.419998</td>\n",
       "      <td>29.487499</td>\n",
       "      <td>226.910004</td>\n",
       "      <td>134247600</td>\n",
       "      <td>46939700</td>\n",
       "    </tr>\n",
       "    <tr>\n",
       "      <th>...</th>\n",
       "      <td>...</td>\n",
       "      <td>...</td>\n",
       "      <td>...</td>\n",
       "      <td>...</td>\n",
       "      <td>...</td>\n",
       "      <td>...</td>\n",
       "      <td>...</td>\n",
       "      <td>...</td>\n",
       "      <td>...</td>\n",
       "      <td>...</td>\n",
       "      <td>...</td>\n",
       "      <td>...</td>\n",
       "    </tr>\n",
       "    <tr>\n",
       "      <th>2021-03-24</th>\n",
       "      <td>120.089996</td>\n",
       "      <td>387.519989</td>\n",
       "      <td>120.089996</td>\n",
       "      <td>387.519989</td>\n",
       "      <td>122.900002</td>\n",
       "      <td>392.750000</td>\n",
       "      <td>120.070000</td>\n",
       "      <td>387.470001</td>\n",
       "      <td>122.820000</td>\n",
       "      <td>391.000000</td>\n",
       "      <td>88530500</td>\n",
       "      <td>97588600</td>\n",
       "    </tr>\n",
       "    <tr>\n",
       "      <th>2021-03-25</th>\n",
       "      <td>120.589996</td>\n",
       "      <td>389.700012</td>\n",
       "      <td>120.589996</td>\n",
       "      <td>389.700012</td>\n",
       "      <td>121.660004</td>\n",
       "      <td>390.549988</td>\n",
       "      <td>119.000000</td>\n",
       "      <td>383.899994</td>\n",
       "      <td>119.540001</td>\n",
       "      <td>385.980011</td>\n",
       "      <td>98844700</td>\n",
       "      <td>116128600</td>\n",
       "    </tr>\n",
       "    <tr>\n",
       "      <th>2021-03-26</th>\n",
       "      <td>121.209999</td>\n",
       "      <td>395.980011</td>\n",
       "      <td>121.209999</td>\n",
       "      <td>395.980011</td>\n",
       "      <td>121.480003</td>\n",
       "      <td>396.410004</td>\n",
       "      <td>118.919998</td>\n",
       "      <td>390.290009</td>\n",
       "      <td>120.349998</td>\n",
       "      <td>390.929993</td>\n",
       "      <td>93958900</td>\n",
       "      <td>113023400</td>\n",
       "    </tr>\n",
       "    <tr>\n",
       "      <th>2021-03-29</th>\n",
       "      <td>121.389999</td>\n",
       "      <td>395.779999</td>\n",
       "      <td>121.389999</td>\n",
       "      <td>395.779999</td>\n",
       "      <td>122.580002</td>\n",
       "      <td>396.750000</td>\n",
       "      <td>120.730003</td>\n",
       "      <td>392.809998</td>\n",
       "      <td>121.650002</td>\n",
       "      <td>394.399994</td>\n",
       "      <td>80819200</td>\n",
       "      <td>108107600</td>\n",
       "    </tr>\n",
       "    <tr>\n",
       "      <th>2021-03-30</th>\n",
       "      <td>119.900002</td>\n",
       "      <td>394.730011</td>\n",
       "      <td>119.900002</td>\n",
       "      <td>394.730011</td>\n",
       "      <td>120.400002</td>\n",
       "      <td>395.450012</td>\n",
       "      <td>118.860001</td>\n",
       "      <td>393.019989</td>\n",
       "      <td>120.110001</td>\n",
       "      <td>394.420013</td>\n",
       "      <td>85671900</td>\n",
       "      <td>76262200</td>\n",
       "    </tr>\n",
       "  </tbody>\n",
       "</table>\n",
       "<p>1067 rows × 12 columns</p>\n",
       "</div>"
      ],
      "text/plain": [
       "             Adj Close                   Close                    High  \\\n",
       "                  AAPL         SPY        AAPL         SPY        AAPL   \n",
       "Date                                                                     \n",
       "2017-01-03   27.459938  208.213501   29.037500  225.240005   29.082500   \n",
       "2017-01-04   27.429203  209.452240   29.004999  226.580002   29.127501   \n",
       "2017-01-05   27.568691  209.285812   29.152500  226.399994   29.215000   \n",
       "2017-01-06   27.876030  210.034561   29.477501  227.210007   29.540001   \n",
       "2017-01-09   28.131361  209.341278   29.747499  226.460007   29.857500   \n",
       "...                ...         ...         ...         ...         ...   \n",
       "2021-03-24  120.089996  387.519989  120.089996  387.519989  122.900002   \n",
       "2021-03-25  120.589996  389.700012  120.589996  389.700012  121.660004   \n",
       "2021-03-26  121.209999  395.980011  121.209999  395.980011  121.480003   \n",
       "2021-03-29  121.389999  395.779999  121.389999  395.779999  122.580002   \n",
       "2021-03-30  119.900002  394.730011  119.900002  394.730011  120.400002   \n",
       "\n",
       "                               Low                    Open              \\\n",
       "                   SPY        AAPL         SPY        AAPL         SPY   \n",
       "Date                                                                     \n",
       "2017-01-03  225.830002   28.690001  223.880005   28.950001  225.039993   \n",
       "2017-01-04  226.750000   28.937500  225.610001   28.962500  225.619995   \n",
       "2017-01-05  226.580002   28.952499  225.479996   28.980000  226.270004   \n",
       "2017-01-06  227.750000   29.117500  225.899994   29.195000  226.529999   \n",
       "2017-01-09  227.070007   29.485001  226.419998   29.487499  226.910004   \n",
       "...                ...         ...         ...         ...         ...   \n",
       "2021-03-24  392.750000  120.070000  387.470001  122.820000  391.000000   \n",
       "2021-03-25  390.549988  119.000000  383.899994  119.540001  385.980011   \n",
       "2021-03-26  396.410004  118.919998  390.290009  120.349998  390.929993   \n",
       "2021-03-29  396.750000  120.730003  392.809998  121.650002  394.399994   \n",
       "2021-03-30  395.450012  118.860001  393.019989  120.110001  394.420013   \n",
       "\n",
       "               Volume             \n",
       "                 AAPL        SPY  \n",
       "Date                              \n",
       "2017-01-03  115127600   91366500  \n",
       "2017-01-04   84472400   78744400  \n",
       "2017-01-05   88774400   78379000  \n",
       "2017-01-06  127007600   71559900  \n",
       "2017-01-09  134247600   46939700  \n",
       "...               ...        ...  \n",
       "2021-03-24   88530500   97588600  \n",
       "2021-03-25   98844700  116128600  \n",
       "2021-03-26   93958900  113023400  \n",
       "2021-03-29   80819200  108107600  \n",
       "2021-03-30   85671900   76262200  \n",
       "\n",
       "[1067 rows x 12 columns]"
      ]
     },
     "execution_count": 128,
     "metadata": {},
     "output_type": "execute_result"
    }
   ],
   "source": [
    "data"
   ]
  },
  {
   "cell_type": "code",
   "execution_count": 111,
   "id": "documentary-exclusion",
   "metadata": {},
   "outputs": [
    {
     "data": {
      "text/html": [
       "<div>\n",
       "<style scoped>\n",
       "    .dataframe tbody tr th:only-of-type {\n",
       "        vertical-align: middle;\n",
       "    }\n",
       "\n",
       "    .dataframe tbody tr th {\n",
       "        vertical-align: top;\n",
       "    }\n",
       "\n",
       "    .dataframe thead th {\n",
       "        text-align: right;\n",
       "    }\n",
       "</style>\n",
       "<table border=\"1\" class=\"dataframe\">\n",
       "  <thead>\n",
       "    <tr style=\"text-align: right;\">\n",
       "      <th></th>\n",
       "      <th>language</th>\n",
       "      <th>region</th>\n",
       "      <th>quoteType</th>\n",
       "      <th>quoteSourceName</th>\n",
       "      <th>triggerable</th>\n",
       "      <th>currency</th>\n",
       "      <th>preMarketChange</th>\n",
       "      <th>preMarketChangePercent</th>\n",
       "      <th>preMarketTime</th>\n",
       "      <th>preMarketPrice</th>\n",
       "      <th>...</th>\n",
       "      <th>exchangeTimezoneShortName</th>\n",
       "      <th>gmtOffSetMilliseconds</th>\n",
       "      <th>market</th>\n",
       "      <th>esgPopulated</th>\n",
       "      <th>marketState</th>\n",
       "      <th>displayName</th>\n",
       "      <th>price</th>\n",
       "      <th>ytdReturn</th>\n",
       "      <th>trailingThreeMonthReturns</th>\n",
       "      <th>trailingThreeMonthNavReturns</th>\n",
       "    </tr>\n",
       "  </thead>\n",
       "  <tbody>\n",
       "    <tr>\n",
       "      <th>AAPL</th>\n",
       "      <td>en-US</td>\n",
       "      <td>US</td>\n",
       "      <td>EQUITY</td>\n",
       "      <td>Nasdaq Real Time Price</td>\n",
       "      <td>True</td>\n",
       "      <td>USD</td>\n",
       "      <td>-0.080002</td>\n",
       "      <td>-0.059926</td>\n",
       "      <td>1619081487</td>\n",
       "      <td>133.42</td>\n",
       "      <td>...</td>\n",
       "      <td>EDT</td>\n",
       "      <td>-14400000</td>\n",
       "      <td>us_market</td>\n",
       "      <td>False</td>\n",
       "      <td>PRE</td>\n",
       "      <td>Apple</td>\n",
       "      <td>133.50</td>\n",
       "      <td>NaN</td>\n",
       "      <td>NaN</td>\n",
       "      <td>NaN</td>\n",
       "    </tr>\n",
       "    <tr>\n",
       "      <th>SPY</th>\n",
       "      <td>en-US</td>\n",
       "      <td>US</td>\n",
       "      <td>ETF</td>\n",
       "      <td>Nasdaq Real Time Price</td>\n",
       "      <td>True</td>\n",
       "      <td>USD</td>\n",
       "      <td>-0.470001</td>\n",
       "      <td>-0.112962</td>\n",
       "      <td>1619081543</td>\n",
       "      <td>415.60</td>\n",
       "      <td>...</td>\n",
       "      <td>EDT</td>\n",
       "      <td>-14400000</td>\n",
       "      <td>us_market</td>\n",
       "      <td>False</td>\n",
       "      <td>PRE</td>\n",
       "      <td>NaN</td>\n",
       "      <td>416.07</td>\n",
       "      <td>6.15</td>\n",
       "      <td>6.35</td>\n",
       "      <td>6.15</td>\n",
       "    </tr>\n",
       "  </tbody>\n",
       "</table>\n",
       "<p>2 rows × 78 columns</p>\n",
       "</div>"
      ],
      "text/plain": [
       "     language region quoteType         quoteSourceName  triggerable currency  \\\n",
       "AAPL    en-US     US    EQUITY  Nasdaq Real Time Price         True      USD   \n",
       "SPY     en-US     US       ETF  Nasdaq Real Time Price         True      USD   \n",
       "\n",
       "      preMarketChange  preMarketChangePercent  preMarketTime  preMarketPrice  \\\n",
       "AAPL        -0.080002               -0.059926     1619081487          133.42   \n",
       "SPY         -0.470001               -0.112962     1619081543          415.60   \n",
       "\n",
       "      ...  exchangeTimezoneShortName  gmtOffSetMilliseconds     market  \\\n",
       "AAPL  ...                        EDT              -14400000  us_market   \n",
       "SPY   ...                        EDT              -14400000  us_market   \n",
       "\n",
       "      esgPopulated  marketState displayName   price  ytdReturn  \\\n",
       "AAPL         False          PRE       Apple  133.50        NaN   \n",
       "SPY          False          PRE         NaN  416.07       6.15   \n",
       "\n",
       "      trailingThreeMonthReturns  trailingThreeMonthNavReturns  \n",
       "AAPL                        NaN                           NaN  \n",
       "SPY                        6.35                          6.15  \n",
       "\n",
       "[2 rows x 78 columns]"
      ]
     },
     "execution_count": 111,
     "metadata": {},
     "output_type": "execute_result"
    }
   ],
   "source": [
    "pdr.get_quote_yahoo(['AAPL', 'SPY'])"
   ]
  },
  {
   "cell_type": "code",
   "execution_count": null,
   "id": "nutritional-diploma",
   "metadata": {},
   "outputs": [],
   "source": []
  }
 ],
 "metadata": {
  "kernelspec": {
   "display_name": "Python 3",
   "language": "python",
   "name": "python3"
  },
  "language_info": {
   "codemirror_mode": {
    "name": "ipython",
    "version": 3
   },
   "file_extension": ".py",
   "mimetype": "text/x-python",
   "name": "python",
   "nbconvert_exporter": "python",
   "pygments_lexer": "ipython3",
   "version": "3.8.5"
  }
 },
 "nbformat": 4,
 "nbformat_minor": 5
}
