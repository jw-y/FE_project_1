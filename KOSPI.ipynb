{
 "cells": [
  {
   "cell_type": "code",
   "execution_count": 1,
   "id": "north-prior",
   "metadata": {},
   "outputs": [],
   "source": [
    "import pandas_datareader as pdr\n",
    "import pandas as pd\n",
    "import datetime\n",
    "import matplotlib.pyplot as plt\n",
    "from tqdm import tqdm\n",
    "import numpy as np\n",
    "import math"
   ]
  },
  {
   "cell_type": "code",
   "execution_count": 19,
   "id": "amateur-sculpture",
   "metadata": {},
   "outputs": [],
   "source": [
    "df = pd.read_csv(\"./data/KOSPI_close.csv\", index_col='Date')"
   ]
  },
  {
   "cell_type": "code",
   "execution_count": 24,
   "id": "neutral-tucson",
   "metadata": {},
   "outputs": [],
   "source": [
    "df.index = pd.to_datetime(df.index)"
   ]
  },
  {
   "cell_type": "code",
   "execution_count": 27,
   "id": "amazing-audio",
   "metadata": {},
   "outputs": [],
   "source": [
    "df = df.resample('M').last()"
   ]
  },
  {
   "cell_type": "code",
   "execution_count": 65,
   "id": "strange-bunch",
   "metadata": {},
   "outputs": [],
   "source": [
    "df = df['2019-01-01':]"
   ]
  },
  {
   "cell_type": "code",
   "execution_count": 66,
   "id": "macro-indiana",
   "metadata": {},
   "outputs": [],
   "source": [
    "log_df = np.log(df) - np.log(df.shift())"
   ]
  },
  {
   "cell_type": "code",
   "execution_count": 98,
   "id": "ready-tissue",
   "metadata": {},
   "outputs": [],
   "source": [
    "log_df = log_df[log_df.columns[~log_df.loc[\"2020-06-01\":'2021-01-01'].isnull().any()]]"
   ]
  },
  {
   "cell_type": "code",
   "execution_count": 99,
   "id": "editorial-slovak",
   "metadata": {},
   "outputs": [],
   "source": [
    "cov = log_df.cov().to_numpy()\n",
    "mu = log_df.mean().to_numpy()"
   ]
  },
  {
   "cell_type": "code",
   "execution_count": 129,
   "id": "favorite-delhi",
   "metadata": {},
   "outputs": [],
   "source": [
    "mu = np.array([0.1, 0.2, 0.15, 0.25, 0.3])\n",
    "cov = np.array([[0.005, -0.010, 0.004, 0.001, 0.002],\n",
    "                [-0.010, 0.040, -0.002, 0.002, -0.001],\n",
    "                [0.004, -0.002, 0.015, 0.003, 0.001],\n",
    "                [0.001, 0.002, 0.003, 0.050, -0.003],\n",
    "                [0.002, -0.001, 0.001, -0.003, 0.060]])"
   ]
  },
  {
   "cell_type": "code",
   "execution_count": 130,
   "id": "olympic-conversion",
   "metadata": {},
   "outputs": [],
   "source": [
    "cov_inv = np.linalg.pinv(cov)"
   ]
  },
  {
   "cell_type": "code",
   "execution_count": 131,
   "id": "medical-sherman",
   "metadata": {},
   "outputs": [],
   "source": [
    "alpha = mu.dot(cov_inv).dot(mu)\n",
    "beta = np.sum(cov_inv.dot(mu))\n",
    "gamma = np.sum(cov_inv)\n",
    "D = alpha*gamma - beta**2"
   ]
  },
  {
   "cell_type": "code",
   "execution_count": 132,
   "id": "above-loading",
   "metadata": {},
   "outputs": [
    {
     "data": {
      "text/plain": [
       "11.461029837902396"
      ]
     },
     "execution_count": 132,
     "metadata": {},
     "output_type": "execute_result"
    }
   ],
   "source": [
    "alpha"
   ]
  },
  {
   "cell_type": "code",
   "execution_count": 133,
   "id": "simple-resistance",
   "metadata": {},
   "outputs": [
    {
     "data": {
      "text/plain": [
       "84.58878488259785"
      ]
     },
     "execution_count": 133,
     "metadata": {},
     "output_type": "execute_result"
    }
   ],
   "source": [
    "beta"
   ]
  },
  {
   "cell_type": "code",
   "execution_count": 134,
   "id": "promising-hopkins",
   "metadata": {},
   "outputs": [
    {
     "data": {
      "text/plain": [
       "700.5662001018605"
      ]
     },
     "execution_count": 134,
     "metadata": {},
     "output_type": "execute_result"
    }
   ],
   "source": [
    "gamma"
   ]
  },
  {
   "cell_type": "code",
   "execution_count": 135,
   "id": "banned-disease",
   "metadata": {},
   "outputs": [],
   "source": [
    "def std(v):\n",
    "    return math.sqrt((gamma*v**2 - 2*beta*v + alpha) / D)"
   ]
  },
  {
   "cell_type": "code",
   "execution_count": 136,
   "id": "negative-relay",
   "metadata": {},
   "outputs": [],
   "source": [
    "_x = math.sqrt(1/gamma)\n",
    "_y = beta/gamma"
   ]
  },
  {
   "cell_type": "code",
   "execution_count": 139,
   "id": "signed-sport",
   "metadata": {},
   "outputs": [
    {
     "data": {
      "text/plain": [
       "0.03778117060186337"
      ]
     },
     "execution_count": 139,
     "metadata": {},
     "output_type": "execute_result"
    }
   ],
   "source": [
    "_x"
   ]
  },
  {
   "cell_type": "code",
   "execution_count": 141,
   "id": "final-probability",
   "metadata": {},
   "outputs": [
    {
     "data": {
      "text/plain": [
       "0.12074345703560756"
      ]
     },
     "execution_count": 141,
     "metadata": {},
     "output_type": "execute_result"
    }
   ],
   "source": [
    "_y"
   ]
  },
  {
   "cell_type": "code",
   "execution_count": 142,
   "id": "social-judge",
   "metadata": {},
   "outputs": [],
   "source": [
    "y_l = np.linspace(_y, 0.5, 100).tolist()\n",
    "#y_l = np.linspace(-0.2, 0.2, 100).tolist()\n",
    "x_l = [std(x) for x in y_l]"
   ]
  },
  {
   "cell_type": "code",
   "execution_count": 143,
   "id": "documentary-associate",
   "metadata": {},
   "outputs": [
    {
     "data": {
      "text/plain": [
       "[<matplotlib.lines.Line2D at 0x1e88a468a60>]"
      ]
     },
     "execution_count": 143,
     "metadata": {},
     "output_type": "execute_result"
    },
    {
     "data": {
      "image/png": "[encoded data removed]",
      "text/plain": [
       "<Figure size 432x288 with 1 Axes>"
      ]
     },
     "metadata": {
      "needs_background": "light"
     },
     "output_type": "display_data"
    }
   ],
   "source": [
    "plt.plot(x_l, y_l)"
   ]
  },
  {
   "cell_type": "code",
   "execution_count": 116,
   "id": "cross-specification",
   "metadata": {},
   "outputs": [],
   "source": [
    "def load_risk_free_rate():\n",
    "    df = pd.read_csv(\"./data/TBILL.csv\", index_col=\"DATE\")\n",
    "    return np.log(df*0.01+1).mean().values[0]"
   ]
  },
  {
   "cell_type": "code",
   "execution_count": 117,
   "id": "tropical-category",
   "metadata": {},
   "outputs": [],
   "source": [
    "rf_rate = load_risk_free_rate()"
   ]
  },
  {
   "cell_type": "code",
   "execution_count": 118,
   "id": "expensive-american",
   "metadata": {},
   "outputs": [
    {
     "data": {
      "text/plain": [
       "0.012379591733893199"
      ]
     },
     "execution_count": 118,
     "metadata": {},
     "output_type": "execute_result"
    }
   ],
   "source": [
    "rf_rate"
   ]
  },
  {
   "cell_type": "code",
   "execution_count": 125,
   "id": "determined-shannon",
   "metadata": {},
   "outputs": [],
   "source": [
    "def CML(risk):\n",
    "    return rf_rate + math.sqrt(E)*risk"
   ]
  },
  {
   "cell_type": "code",
   "execution_count": 145,
   "id": "following-blackjack",
   "metadata": {},
   "outputs": [],
   "source": [
    "E = alpha - 2*beta *rf_rate + gamma*rf_rate**2"
   ]
  },
  {
   "cell_type": "code",
   "execution_count": 146,
   "id": "vietnamese-participant",
   "metadata": {},
   "outputs": [],
   "source": [
    "line_x = np.linspace(0, 0.3, 100).tolist()\n",
    "line_y = [CML(x) for x in line_x]"
   ]
  },
  {
   "cell_type": "code",
   "execution_count": 147,
   "id": "palestinian-programmer",
   "metadata": {},
   "outputs": [
    {
     "data": {
      "text/plain": [
       "<matplotlib.collections.PathCollection at 0x1e8891b8940>"
      ]
     },
     "execution_count": 147,
     "metadata": {},
     "output_type": "execute_result"
    },
    {
     "data": {
      "image/png": "[encoded data removed]",
      "text/plain": [
       "<Figure size 432x288 with 1 Axes>"
      ]
     },
     "metadata": {
      "needs_background": "light"
     },
     "output_type": "display_data"
    }
   ],
   "source": [
    "plt.plot(x_l, y_l)\n",
    "plt.plot(line_x, line_y)\n",
    "plt.scatter([math.sqrt(cov[x][x]) for x in range(mu.shape[0])], mu)"
   ]
  },
  {
   "cell_type": "code",
   "execution_count": null,
   "id": "compound-latitude",
   "metadata": {},
   "outputs": [],
   "source": []
  }
 ],
 "metadata": {
  "kernelspec": {
   "display_name": "Python 3",
   "language": "python",
   "name": "python3"
  },
  "language_info": {
   "codemirror_mode": {
    "name": "ipython",
    "version": 3
   },
   "file_extension": ".py",
   "mimetype": "text/x-python",
   "name": "python",
   "nbconvert_exporter": "python",
   "pygments_lexer": "ipython3",
   "version": "3.8.5"
  }
 },
 "nbformat": 4,
 "nbformat_minor": 5
}
